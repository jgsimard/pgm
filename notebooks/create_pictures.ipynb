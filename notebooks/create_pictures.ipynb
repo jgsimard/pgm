{
 "cells": [
  {
   "cell_type": "code",
   "execution_count": 5,
   "metadata": {
    "collapsed": true
   },
   "outputs": [],
   "source": [
    "import daft\n",
    "# https://docs.daft-pgm.org/en/latest/"
   ]
  },
  {
   "cell_type": "code",
   "execution_count": 26,
   "outputs": [
    {
     "data": {
      "text/plain": "<Figure size 68.0315x138.898 with 1 Axes>",
      "image/png": "[encoded data removed]"
     },
     "metadata": {},
     "output_type": "display_data"
    }
   ],
   "source": [
    "# nodes\n",
    "gmm_pgm = daft.PGM()\n",
    "\n",
    "# nodes\n",
    "gmm_z_n = daft.Node(\"z_n\", r\"$z_n$\", x=0, y=0)\n",
    "gmm_pgm.add_node(gmm_z_n)\n",
    "gmm_x_n = daft.Node(\"x_n\", r\"$x_n$\", x=0, y=-1, observed=True)\n",
    "gmm_pgm.add_node(gmm_x_n)\n",
    "\n",
    "# edges\n",
    "gmm_pgm.add_edge(\"z_n\", \"x_n\", directed=True)\n",
    "\n",
    "# plates\n",
    "#This is [x-start, y-start, x-length, y-length].\n",
    "gmm_plate = daft.Plate([-0.5,-1.75,1,2.25], label=\"n = 1...N\")\n",
    "gmm_pgm.add_plate(gmm_plate)\n",
    "\n",
    "# rendering\n",
    "gmm_pgm.render()\n",
    "gmm_pgm.savefig(\"pictures/gmm_pgm.png\")"
   ],
   "metadata": {
    "collapsed": false,
    "pycharm": {
     "name": "#%%\n"
    }
   }
  }
 ],
 "metadata": {
  "kernelspec": {
   "display_name": "Python 3",
   "language": "python",
   "name": "python3"
  },
  "language_info": {
   "codemirror_mode": {
    "name": "ipython",
    "version": 2
   },
   "file_extension": ".py",
   "mimetype": "text/x-python",
   "name": "python",
   "nbconvert_exporter": "python",
   "pygments_lexer": "ipython2",
   "version": "2.7.6"
  }
 },
 "nbformat": 4,
 "nbformat_minor": 0
}